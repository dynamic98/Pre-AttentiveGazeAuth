{
 "cells": [
  {
   "cell_type": "markdown",
   "metadata": {},
   "source": [
    "<h1>Download data</h1>"
   ]
  },
  {
   "cell_type": "code",
   "execution_count": null,
   "metadata": {},
   "outputs": [],
   "source": [
    "from src.download import download\n",
    "\n",
    "# Your data will be downloaded to the data folder\n",
    "download()"
   ]
  },
  {
   "cell_type": "markdown",
   "metadata": {},
   "source": [
    "<h1>Model</h1>"
   ]
  },
  {
   "cell_type": "code",
   "execution_count": null,
   "metadata": {},
   "outputs": [],
   "source": [
    "import json\n",
    "import pandas as pd\n",
    "from src.load_data import load_data\n",
    "from src.preprocessing import data_preprocessing\n",
    "from src.model import Model\n",
    "\n",
    "\n",
    "stimuli = \"MVC\"\n",
    "# stimuli = \"SVC\"\n",
    "\n",
    "data = load_data(f\"{stimuli}.tsv\")\n",
    "data = data_preprocessing(data)\n",
    "model = Model(data)\n",
    "results = model.cross_validation(5, 'ZR', 'DT', 'KNN', 'NB', 'SVM', 'LR', 'AB', 'RF')\n",
    "# results = model.leave_one_session_out_cross_validation('ZR', 'DT', 'KNN', 'NB', 'SVM', 'LR', 'AB', 'RF')\n",
    "\n",
    "result_df = pd.DataFrame(results)\n",
    "result_df"
   ]
  },
  {
   "cell_type": "code",
   "execution_count": null,
   "metadata": {},
   "outputs": [],
   "source": []
  }
 ],
 "metadata": {
  "kernelspec": {
   "display_name": "PreAttentiveGazeAuth",
   "language": "python",
   "name": "python3"
  },
  "language_info": {
   "codemirror_mode": {
    "name": "ipython",
    "version": 3
   },
   "file_extension": ".py",
   "mimetype": "text/x-python",
   "name": "python",
   "nbconvert_exporter": "python",
   "pygments_lexer": "ipython3",
   "version": "3.10.14"
  }
 },
 "nbformat": 4,
 "nbformat_minor": 2
}
